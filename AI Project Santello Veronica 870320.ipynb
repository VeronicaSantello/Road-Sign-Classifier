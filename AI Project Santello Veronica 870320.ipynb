{
 "cells": [
  {
   "cell_type": "markdown",
   "id": "83e6be72",
   "metadata": {},
   "source": [
    "# ARTIFICIAL INTELLIGENCE PROJECT\n",
    "## Santello Veronica 870320"
   ]
  },
  {
   "cell_type": "markdown",
   "id": "3ecdc7fc",
   "metadata": {},
   "source": [
    "# Recognition and classification of road signs"
   ]
  },
  {
   "cell_type": "code",
   "execution_count": 1,
   "id": "de18bdc1",
   "metadata": {},
   "outputs": [
    {
     "name": "stdout",
     "output_type": "stream",
     "text": [
      "1.9.1\n"
     ]
    }
   ],
   "source": [
    "import torch\n",
    "print(torch.__version__)"
   ]
  },
  {
   "cell_type": "markdown",
   "id": "3661691d",
   "metadata": {},
   "source": [
    "## Load data"
   ]
  },
  {
   "cell_type": "code",
   "execution_count": 2,
   "id": "49314f82",
   "metadata": {
    "scrolled": true
   },
   "outputs": [],
   "source": [
    "import csv \n",
    "import xml.etree.ElementTree as ET\n",
    "import os\n",
    "import numpy as np\n",
    "\n",
    "path = r\"C:\\Users\\VERONICA\\Desktop\\PROGETTO PELILLO\\annotations\"\n",
    "filenames = []\n",
    "tmp = []\n",
    "tmp1 = []\n",
    "\n",
    "\n",
    "for filename in os.listdir(path):\n",
    "    if not filename.endswith('.xml'):\n",
    "        continue\n",
    "    fullname = os.path.join(path,filename)\n",
    "    filenames.append(fullname)\n",
    "    \n",
    "    \n",
    "for filename in filenames:\n",
    "    tree = ET.parse(filename)\n",
    "    root = tree.getroot()\n",
    "    \n",
    "    for datir in root.iter('annotation'):\n",
    "        objects = []\n",
    "        \n",
    "        for name in datir.iter('filename'):\n",
    "            tmp1.append(name.text)\n",
    "\n",
    "        for element in datir.iter('object'):\n",
    "            for name in element.iter('name'):\n",
    "                objects.append(name.text)\n",
    "               \n",
    "        tmp = tmp + [objects]\n",
    "\n",
    "                    \n",
    "labels = np.array(tmp, dtype=object)   \n",
    "names = np.array(tmp1)\n",
    "                "
   ]
  },
  {
   "cell_type": "code",
   "execution_count": 4,
   "id": "aa0d7762",
   "metadata": {},
   "outputs": [],
   "source": [
    "#Load libraries\n",
    "import glob\n",
    "import torch.nn as nn\n",
    "from torchvision.transforms import transforms\n",
    "from torch.utils.data import DataLoader\n",
    "from torch.optim import Adam\n",
    "from torch.autograd import Variable\n",
    "import torchvision\n",
    "import pathlib"
   ]
  },
  {
   "cell_type": "code",
   "execution_count": 7,
   "id": "8c7f4556",
   "metadata": {},
   "outputs": [],
   "source": [
    "#checking for device\n",
    "device=torch.device('cuda' if torch.cuda.is_available() else 'cpu')\n",
    "#print(device)"
   ]
  },
  {
   "cell_type": "code",
   "execution_count": 8,
   "id": "414ee36d",
   "metadata": {},
   "outputs": [],
   "source": [
    "#resize all the images with the same size\n",
    "#flip the image with probability 0.5\n",
    "#converts numpy.ndarray (H x W x C) in the range [0, 255] to a torch.FloatTensor of shape (C x H x W) in the range [0.0, 1.0]\n",
    "#normalize data from [0,1] to [-1,1] \n",
    "\n",
    "transformer =   transforms.Compose([\n",
    "                transforms.Resize((150,150)),\n",
    "                transforms.RandomHorizontalFlip(),\n",
    "                transforms.ToTensor(),  \n",
    "                transforms.Normalize([0.5,0.5,0.5], # 0-1 to [-1,1] with formula (x - mean)/std\n",
    "                                    [0.5,0.5,0.5])\n",
    "])"
   ]
  },
  {
   "cell_type": "code",
   "execution_count": 24,
   "id": "9c7e2928",
   "metadata": {},
   "outputs": [
    {
     "name": "stdout",
     "output_type": "stream",
     "text": [
      "['crosswalk', 'speedlimit', 'stop', 'trafficlight']\n"
     ]
    }
   ],
   "source": [
    "#Path for training and testing directory\n",
    "path = 'C:/Users/VERONICA/Desktop/PROGETTO PELILLO/images/'\n",
    "train_path='C:/Users/VERONICA/Desktop/PROGETTO PELILLO/images/training_set'\n",
    "test_path='C:/Users/VERONICA/Desktop/PROGETTO PELILLO/images/test_set'\n",
    "\n",
    "\n",
    "train_loader=DataLoader(\n",
    "    torchvision.datasets.ImageFolder(train_path,transform=transformer),\n",
    "    batch_size=64, shuffle=True\n",
    ")\n",
    "test_loader=DataLoader(\n",
    "    torchvision.datasets.ImageFolder(test_path,transform=transformer),\n",
    "    batch_size=32, shuffle=True\n",
    ")\n",
    "\n",
    "#categories\n",
    "root=pathlib.Path(train_path)\n",
    "classes=sorted([j.name.split('/')[-1] for j in root.iterdir()])\n",
    "print(classes)"
   ]
  },
  {
   "cell_type": "code",
   "execution_count": null,
   "id": "0a74c81c",
   "metadata": {},
   "outputs": [],
   "source": []
  },
  {
   "cell_type": "code",
   "execution_count": null,
   "id": "6ff17662",
   "metadata": {},
   "outputs": [],
   "source": []
  }
 ],
 "metadata": {
  "kernelspec": {
   "display_name": "Python 3 (ipykernel)",
   "language": "python",
   "name": "python3"
  },
  "language_info": {
   "codemirror_mode": {
    "name": "ipython",
    "version": 3
   },
   "file_extension": ".py",
   "mimetype": "text/x-python",
   "name": "python",
   "nbconvert_exporter": "python",
   "pygments_lexer": "ipython3",
   "version": "3.8.11"
  }
 },
 "nbformat": 4,
 "nbformat_minor": 5
}
